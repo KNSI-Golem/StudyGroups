{
 "cells": [
  {
   "cell_type": "code",
   "execution_count": 18,
   "id": "678baced-1b11-4166-bd10-b1ba0d4d4bd2",
   "metadata": {
    "tags": []
   },
   "outputs": [],
   "source": [
    "from PIL import Image\n",
    "import numpy as np\n",
    "import torch\n",
    "import matplotlib.pyplot as plt\n",
    "\n",
    "from sklearn.decomposition import PCA\n",
    "from sklearn.metrics import mean_squared_error, mean_absolute_error\n",
    "from sklearn.base import BaseEstimator\n",
    "\n",
    "from modules import UNet_conditional, EMA\n",
    "from ddpm_conditional import Diffusion\n",
    "from utils import save_images\n",
    "\n",
    "from utils import get_data\n",
    "\n",
    "from modules import Down, Up"
   ]
  },
  {
   "cell_type": "code",
   "execution_count": null,
   "id": "cd532813-edb1-4b98-8a8b-efedcbe26957",
   "metadata": {},
   "outputs": [],
   "source": [
    "class Down(nn.Module):\n",
    "    def __init__(self, in_channels, out_channels, emb_dim=256):\n",
    "        super().__init__()\n",
    "        self.maxpool_conv = nn.Sequential(\n",
    "            nn.MaxPool2d(2),\n",
    "            DoubleConv(in_channels, in_channels, residual=True),\n",
    "            DoubleConv(in_channels, out_channels),\n",
    "        )\n",
    "\n",
    "        self.emb_layer = nn.Sequential(\n",
    "            nn.SiLU(),\n",
    "            nn.Linear(\n",
    "                emb_dim,\n",
    "                out_channels\n",
    "            ),\n",
    "        )\n",
    "\n",
    "    def forward(self, x, t):\n",
    "        x = self.maxpool_conv(x)\n",
    "        emb = self.emb_layer(t)[:, :, None, None].repeat(1, 1, x.shape[-2], x.shape[-1])\n",
    "        return x + emb\n",
    "\n",
    "\n",
    "class Up(nn.Module):\n",
    "    def __init__(self, in_channels, out_channels, emb_dim=256):\n",
    "        super().__init__()\n",
    "\n",
    "        self.up = nn.Upsample(scale_factor=2, mode=\"bilinear\", align_corners=True)\n",
    "        self.conv = nn.Sequential(\n",
    "            DoubleConv(in_channels, in_channels, residual=True),\n",
    "            DoubleConv(in_channels, out_channels, in_channels // 2),\n",
    "        )\n",
    "\n",
    "        self.emb_layer = nn.Sequential(\n",
    "            nn.SiLU(),\n",
    "            nn.Linear(\n",
    "                emb_dim,\n",
    "                out_channels\n",
    "            ),\n",
    "        )\n",
    "\n",
    "    def forward(self, x, skip_x, t):\n",
    "        x = self.up(x)\n",
    "        x = torch.cat([skip_x, x], dim=1)\n",
    "        x = self.conv(x)\n",
    "        emb = self.emb_layer(t)[:, :, None, None].repeat(1, 1, x.shape[-2], x.shape[-1])\n",
    "        return x + emb\n",
    "    \n",
    "\n",
    "def AutoEncoder(BaseEstimator):\n",
    "    def __init__(self, shape, latent_dim):\n",
    "        self.shape = shape\n",
    "        self.latent_dim = latent_dim\n",
    "        self._build_network()\n",
    "        \n",
    "    def _build_network(self):\n",
    "        initial_dim = shape[1] * shape[2] * shape[3]\n",
    "        latent_dim_per_res = [initial_dim / 4 ** i for i in range(1, 4)] \n",
    "        latent_dim_per_res = [l for l in latent_dim_per_res if l == int(l)]\n",
    "        n_down_blocks = len(latent_dim_per_res)\n",
    "        \n",
    "        Encoder = torch.nn.Sequential([Down()])\n",
    "            "
   ]
  },
  {
   "cell_type": "code",
   "execution_count": 2,
   "id": "1d688cda-ab22-4b80-a823-26067f300806",
   "metadata": {
    "tags": []
   },
   "outputs": [],
   "source": [
    "def _flatten(images: torch.Tensor):\n",
    "    return images.flatten(start_dim=1)\n",
    "\n",
    "\n",
    "def _unflatten(images, shape=None):\n",
    "    if shape is None:\n",
    "        shape = (3, 48, 32)\n",
    "        \n",
    "    if not isinstance(images, torch.Tensor):\n",
    "        images = torch.Tensor(images)\n",
    "    \n",
    "    unf = torch.nn.Unflatten(1, shape)\n",
    "    return unf(images)"
   ]
  },
  {
   "cell_type": "code",
   "execution_count": 3,
   "id": "9c60e15b-c6f4-4405-a979-29d818e48672",
   "metadata": {
    "tags": []
   },
   "outputs": [],
   "source": [
    "class Args:\n",
    "    def __init__(self, data_path, batch_size):\n",
    "        self.dataset_path = data_path\n",
    "        self.batch_size = batch_size\n",
    "        \n",
    "        \n",
    "def preprocess_images(images):\n",
    "    if len(images.shape) > 2:\n",
    "        images = _flatten(images)\n",
    "    return images\n",
    "\n",
    "\n",
    "def calculate_score(true, pred, scoring_func):\n",
    "    true = preprocess_images(true)\n",
    "    pred = preprocess_images(pred)\n",
    "    return np.array([scoring_func(t, p) for t, p in zip(true, pred)])\n",
    "        \n",
    "    \n",
    "def squared_error(true, pred):\n",
    "    return calculate_score(true, pred, mean_squared_error)\n",
    "\n",
    "\n",
    "def absolute_error(true, pred):\n",
    "    return calculate_score(true, pred, mean_absolute_error)"
   ]
  },
  {
   "cell_type": "code",
   "execution_count": 16,
   "id": "17d2fcad-b12e-46c2-a80a-990d059f34e7",
   "metadata": {
    "tags": []
   },
   "outputs": [],
   "source": [
    "def pca_compression(real, gen, n_components=20):\n",
    "    pca = PCA(n_components=n_components)\n",
    "    pca.fit(real)\n",
    "    real_bis = pca.inverse_transform(pca.transform(real))\n",
    "    gen_bis = pca.inverse_transform(pca.transform(gen))\n",
    "    return real_bis, gen_bis\n",
    "\n",
    "\n",
    "def get_compression_1d(real_images, gen_images, compression_func, *args, **kwargs):\n",
    "    flat_real = _flatten(real_images)\n",
    "    flat_gen = _flatten(gen_images)\n",
    "    \n",
    "    real_bis, gen_bis = compression_func(flat_real, flat_gen, *args, **kwargs)\n",
    "    \n",
    "    shape = real_images.shape[1:]\n",
    "    return _unflatten(real_bis, shape=shape), _unflatten(gen_bis, shape=shape)\n",
    "\n",
    "\n",
    "def get_pca_compression(real_images, gen_images, n_components=20):\n",
    "    return get_compression_1d(real_images, gen_images, compression_func=pca_compression, n_components=n_components)\n",
    "\n",
    "\n",
    "def get_ae_compression(real_images, gen_images, latent_dim=100, epochs=30):\n",
    "    ae = AutoEncoder(shape=real_images.shape[1:], latent_dim=latent_dim)\n",
    "    ae.fit(real_images, epochs=epochs)\n",
    "    \n",
    "    real_bis = ae.predict(real_images)\n",
    "    gen_bis = ae.predict(gen_bis)\n",
    "    return real_bis, gen_bis\n",
    "    "
   ]
  },
  {
   "cell_type": "code",
   "execution_count": 5,
   "id": "ce7e2855-fcba-43b4-9cf8-d3c0570210c3",
   "metadata": {
    "tags": []
   },
   "outputs": [],
   "source": [
    "data_path = 'data/margonem'\n",
    "args = Args(**{'data_path': data_path, 'batch_size': 32})"
   ]
  },
  {
   "cell_type": "code",
   "execution_count": 6,
   "id": "d6c078cb-46d9-4455-94c4-0f0acfe33765",
   "metadata": {
    "tags": []
   },
   "outputs": [],
   "source": [
    "images = []\n",
    "labels = []\n",
    "for x, y in get_data(args):\n",
    "    images.append(x)\n",
    "    labels.append(y)\n",
    "images = torch.cat(images)\n",
    "labels = torch.cat(labels)"
   ]
  },
  {
   "cell_type": "code",
   "execution_count": 7,
   "id": "b3608668-7f50-4360-9fad-d84756c1799c",
   "metadata": {
    "tags": []
   },
   "outputs": [],
   "source": [
    "# num_classes = 67\n",
    "# device = \"cuda\"\n",
    "# image_size = (48, 32)\n",
    "\n",
    "# # initialize the model and diffusion class\n",
    "# model = UNet_conditional(num_classes=num_classes).to(device)\n",
    "# diffusion = Diffusion(img_size=image_size, device=device)\n",
    "\n",
    "# # load saved model weights\n",
    "# weights_path = 'models/DDPM_conditional/ema_ckpt.pt'\n",
    "# # model = \n",
    "# model.load_state_dict(torch.load(weights_path))\n",
    "\n",
    "# # images_per_class = 32\n",
    "# # n_to_plot = num_classes * images_per_class\n",
    "\n",
    "# viz_noise = torch.randn((len(flat_images), 3, image_size[0], image_size[1])).to(device)\n",
    "# # viz_labels = torch.arange(n_to_plot // images_per_class).long().repeat(images_per_class).to(device)\n",
    "# sampled_images = diffusion.sample(model, n=len(flat_images), labels=labels.to(device), noise=viz_noise, batch=32)"
   ]
  },
  {
   "cell_type": "code",
   "execution_count": 8,
   "id": "a204f359-3417-4109-b826-94a3e57b3287",
   "metadata": {
    "tags": []
   },
   "outputs": [],
   "source": [
    "# for i, img in enumerate(sampled_images.to('cpu')):\n",
    "#     save_images(img, f'generated/{i}.png', nrow=1)"
   ]
  },
  {
   "cell_type": "code",
   "execution_count": 9,
   "id": "7630f3cc-426e-43ba-8034-20ab68ae6185",
   "metadata": {
    "tags": []
   },
   "outputs": [],
   "source": [
    "data_path = 'generated'\n",
    "args = Args(**{'data_path': data_path, 'batch_size': 32})"
   ]
  },
  {
   "cell_type": "code",
   "execution_count": 10,
   "id": "22e22c74-b476-4259-8509-179a28741e73",
   "metadata": {},
   "outputs": [],
   "source": [
    "gen_images = []\n",
    "for x, _ in get_data(args):\n",
    "    gen_images.append(x)\n",
    "gen_images = torch.cat(gen_images)"
   ]
  },
  {
   "cell_type": "code",
   "execution_count": 14,
   "id": "9543d658-88d9-4625-a35d-a6d292a12baf",
   "metadata": {
    "tags": []
   },
   "outputs": [],
   "source": [
    "real_bis, gen_bis = get_pca_compression(real_images=images, gen_images=gen_images, n_components=1000)\n",
    "r_rerrors_real = absolute_error(images, real_bis)\n",
    "r_errors_gen = absolute_error(gen_images, gen_bis)"
   ]
  },
  {
   "cell_type": "code",
   "execution_count": 15,
   "id": "765e22f5-a5fb-4f54-9e8b-dfd3d6393300",
   "metadata": {
    "tags": []
   },
   "outputs": [
    {
     "data": {
      "image/png": "[encoded data removed]",
      "text/plain": [
       "<Figure size 640x480 with 1 Axes>"
      ]
     },
     "metadata": {},
     "output_type": "display_data"
    }
   ],
   "source": [
    "plt.hist(r_rerrors_real, bins=100, label='Real')\n",
    "plt.hist(r_errors_gen, bins=100, label='Generated')\n",
    "plt.legend()\n",
    "plt.show()"
   ]
  },
  {
   "cell_type": "code",
   "execution_count": 13,
   "id": "6bef9deb-ab01-403f-ae3f-157f6a7974c6",
   "metadata": {},
   "outputs": [],
   "source": [
    "idx = np.random.choice(len(real_bis), size=4, replace=False)\n",
    "viz = torch.cat([images[idx], real_bis[idx], gen_images[idx], gen_bis[idx]])\n",
    "save_images(viz, 'compression_viz.png', nrow=4)"
   ]
  },
  {
   "cell_type": "code",
   "execution_count": null,
   "id": "5cc0f096-ad50-4045-8888-717998c0e658",
   "metadata": {},
   "outputs": [],
   "source": []
  },
  {
   "cell_type": "code",
   "execution_count": null,
   "id": "543d27db-66b4-4e54-a9d7-672ac6fc1871",
   "metadata": {},
   "outputs": [],
   "source": []
  }
 ],
 "metadata": {
  "kernelspec": {
   "display_name": "simple_diffusion",
   "language": "python",
   "name": "simple_diffusion"
  },
  "language_info": {
   "codemirror_mode": {
    "name": "ipython",
    "version": 3
   },
   "file_extension": ".py",
   "mimetype": "text/x-python",
   "name": "python",
   "nbconvert_exporter": "python",
   "pygments_lexer": "ipython3",
   "version": "3.9.6"
  }
 },
 "nbformat": 4,
 "nbformat_minor": 5
}
