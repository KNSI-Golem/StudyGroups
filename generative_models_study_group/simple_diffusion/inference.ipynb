{
 "cells": [
  {
   "cell_type": "code",
   "execution_count": 1,
   "id": "2755024d-ee60-4d03-981e-71fa5d90f65c",
   "metadata": {
    "tags": []
   },
   "outputs": [],
   "source": [
    "from modules import UNet_conditional, EMA\n",
    "from ddpm_conditional import Diffusion\n",
    "from utils import save_images\n",
    "import torch"
   ]
  },
  {
   "cell_type": "code",
   "execution_count": 2,
   "id": "1155a5a7-73c5-4bfc-88ec-aad050e2496c",
   "metadata": {
    "tags": []
   },
   "outputs": [],
   "source": [
    "# parser = argparse.ArgumentParser()\n",
    "# args = parser.parse_args()\n",
    "# args.run_name = \"DDPM_conditional\"\n",
    "# args.epochs = 1000\n",
    "# args.batch_size = 64\n",
    "\n",
    "# args.dataset_path = r\"/home/laszer/projects/simple_diffusion/Diffusion-Models-pytorch/data/margonem\"\n",
    "# args.lr = 3e-4\n",
    "# args.n_to_plot = 16\n",
    "# args.epochs_per_plot = 20"
   ]
  },
  {
   "cell_type": "code",
   "execution_count": 3,
   "id": "107eb3d8-87cb-496d-8627-0251e53f8fec",
   "metadata": {
    "tags": []
   },
   "outputs": [],
   "source": [
    "num_classes = 67\n",
    "device = \"cuda\"\n",
    "image_size = (48, 32)"
   ]
  },
  {
   "cell_type": "code",
   "execution_count": 4,
   "id": "29a89dd1-b6f6-4652-8515-2fc8484b3f0b",
   "metadata": {
    "tags": []
   },
   "outputs": [],
   "source": [
    "# initialize the model and diffusion class\n",
    "model = UNet_conditional(num_classes=num_classes).to(device)\n",
    "diffusion = Diffusion(img_size=image_size, device=device)"
   ]
  },
  {
   "cell_type": "code",
   "execution_count": 5,
   "id": "4166ae06-a550-4993-ac6a-aad4aadd93cf",
   "metadata": {
    "tags": []
   },
   "outputs": [
    {
     "data": {
      "text/plain": [
       "<All keys matched successfully>"
      ]
     },
     "execution_count": 5,
     "metadata": {},
     "output_type": "execute_result"
    }
   ],
   "source": [
    "# load saved model weights\n",
    "weights_path = 'models/DDPM_conditional/ema_ckpt.pt'\n",
    "# model = \n",
    "model.load_state_dict(torch.load(weights_path))"
   ]
  },
  {
   "cell_type": "code",
   "execution_count": 6,
   "id": "5078c881-8528-4f9b-8d24-2d9cc9c31839",
   "metadata": {
    "tags": []
   },
   "outputs": [
    {
     "name": "stderr",
     "output_type": "stream",
     "text": [
      "04:51:13 - INFO: Sampling 67 new images....\n",
      "999it [00:35, 28.47it/s]\n",
      "999it [00:35, 27.98it/s]\n",
      "999it [00:09, 102.96it/s]\n"
     ]
    }
   ],
   "source": [
    "images_per_class = 1\n",
    "n_to_plot = num_classes * images_per_class\n",
    "\n",
    "viz_noise = torch.randn((n_to_plot, 3, image_size[0], image_size[1])).to(device)\n",
    "viz_labels = torch.arange(n_to_plot // images_per_class).long().repeat(images_per_class).to(device)\n",
    "sampled_images = diffusion.sample(model, n=n_to_plot, labels=viz_labels, noise=viz_noise, batch=32)"
   ]
  },
  {
   "cell_type": "code",
   "execution_count": 7,
   "id": "92065016-ac1d-419f-a2fd-83f6f56b059e",
   "metadata": {
    "tags": []
   },
   "outputs": [],
   "source": [
    "save_images(sampled_images, 'temp_visualization.png', nrow=num_classes)"
   ]
  },
  {
   "cell_type": "code",
   "execution_count": null,
   "id": "33b22e02-8756-4509-bcc8-c3224f96f5bd",
   "metadata": {},
   "outputs": [],
   "source": []
  }
 ],
 "metadata": {
  "kernelspec": {
   "display_name": "simple_diffusion",
   "language": "python",
   "name": "simple_diffusion"
  },
  "language_info": {
   "codemirror_mode": {
    "name": "ipython",
    "version": 3
   },
   "file_extension": ".py",
   "mimetype": "text/x-python",
   "name": "python",
   "nbconvert_exporter": "python",
   "pygments_lexer": "ipython3",
   "version": "3.9.6"
  }
 },
 "nbformat": 4,
 "nbformat_minor": 5
}
